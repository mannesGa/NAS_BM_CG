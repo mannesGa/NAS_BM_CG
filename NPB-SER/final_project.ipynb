{
 "cells": [
  {
   "cell_type": "code",
   "execution_count": null,
   "id": "e18b6c42-b94d-4e95-ab4f-228504f113a0",
   "metadata": {},
   "outputs": [],
   "source": [
    "#Final Project"
   ]
  },
  {
   "cell_type": "code",
   "execution_count": null,
   "id": "1ceaa9ee-0004-4dc0-800f-14d2f6c2a953",
   "metadata": {},
   "outputs": [],
   "source": [
    "#### Student Name: Gabi Student ID: \n",
    "\n",
    "#### Student Name: May Yarden Student ID: 322722018"
   ]
  },
  {
   "cell_type": "code",
   "execution_count": null,
   "id": "95e47171-361e-4972-b938-773149132834",
   "metadata": {},
   "outputs": [],
   "source": [
    "%cd ~"
   ]
  },
  {
   "cell_type": "code",
   "execution_count": null,
   "id": "184f33df-a40b-4e79-b52f-65b9e8e7d27a",
   "metadata": {},
   "outputs": [],
   "source": [
    "# Clone the repository from GitHub\n",
    "!git clone https://github.com/GMAP/NPB-CPP.git"
   ]
  },
  {
   "cell_type": "code",
   "execution_count": null,
   "id": "91adcf99-96cf-478e-ba20-bdd4a53854e8",
   "metadata": {},
   "outputs": [],
   "source": [
    "!pwd #path"
   ]
  },
  {
   "cell_type": "code",
   "execution_count": null,
   "id": "c6ad8316-670e-46bc-83bd-8e974e9e76c6",
   "metadata": {},
   "outputs": [],
   "source": [
    "import os\n",
    "os.chdir('/home/u2ded4f4b1afd59d81db43550043c78a/NAS_BM_CG/NPB-SER')"
   ]
  },
  {
   "cell_type": "code",
   "execution_count": null,
   "id": "0d55062f-3ca2-4418-b592-2e9bb6cf8b53",
   "metadata": {
    "scrolled": true
   },
   "outputs": [],
   "source": [
    "#SER\n",
    "!make cg CLASS=A\n",
    "!make cg CLASS=B\n",
    "!make cg CLASS=C\n",
    "!make cg CLASS=D"
   ]
  },
  {
   "cell_type": "code",
   "execution_count": null,
   "id": "706615c3-17b8-4735-af5d-2dc1607c8b63",
   "metadata": {},
   "outputs": [],
   "source": [
    "#SER - make it executable\n",
    "!chmod +x ./bin/cg.A \n",
    "!chmod +x ./bin/cg.B \n",
    "!chmod +x ./bin/cg.C\n",
    "!chmod +x ./bin/cg.D "
   ]
  },
  {
   "cell_type": "code",
   "execution_count": null,
   "id": "659853bc-629e-41d1-b332-5be9a05c325b",
   "metadata": {},
   "outputs": [],
   "source": [
    "!./bin/cg.A"
   ]
  },
  {
   "cell_type": "code",
   "execution_count": null,
   "id": "9e0ae21b-cef4-4b65-9a87-1ee916db26a7",
   "metadata": {},
   "outputs": [],
   "source": [
    "!./bin/cg.B"
   ]
  },
  {
   "cell_type": "code",
   "execution_count": null,
   "id": "fda21eae-436c-4c4c-94a8-70535a034e3d",
   "metadata": {},
   "outputs": [],
   "source": [
    "!./bin/cg.C"
   ]
  },
  {
   "cell_type": "code",
   "execution_count": null,
   "id": "d6c7092e-4693-4baa-aeaa-e28a4869b584",
   "metadata": {},
   "outputs": [],
   "source": [
    "!./bin/cg.D"
   ]
  },
  {
   "cell_type": "code",
   "execution_count": 6,
   "id": "3b2daba6-5638-451b-8924-4424d9897b2f",
   "metadata": {},
   "outputs": [],
   "source": [
    "#OMP\n",
    "import os\n",
    "os.chdir('/home/u2ded4f4b1afd59d81db43550043c78a/NAS_BM_CG/NPB-OMP')"
   ]
  },
  {
   "cell_type": "code",
   "execution_count": null,
   "id": "0439f0ba-7d61-4506-9b74-63a2d1b66e70",
   "metadata": {},
   "outputs": [],
   "source": [
    "#OMP\n",
    "!make cg CLASS=A\n",
    "!make cg CLASS=B\n",
    "!make cg CLASS=C\n",
    "!make cg CLASS=D"
   ]
  },
  {
   "cell_type": "code",
   "execution_count": 7,
   "id": "18c47ee2-28a9-4431-b320-88c4e986f662",
   "metadata": {
    "collapsed": true,
    "jupyter": {
     "outputs_hidden": true
    }
   },
   "outputs": [
    {
     "name": "stdout",
     "output_type": "stream",
     "text": [
      "\n",
      "\n",
      " NAS Parallel Benchmarks 4.1 Parallel C++ version with OpenMP - CG Benchmark\n",
      "\n",
      " Size:       14000\n",
      " Iterations:    15\n",
      " Initialization time =           0.469 seconds\n",
      "\n",
      "   iteration           ||r||                 zeta\n",
      "        1       1.91460592087143e-13 1.9999758127704e+01\n",
      "        2       1.85787254423564e-15 1.7114049574551e+01\n",
      "        3       1.88672601316402e-15 1.7129666894614e+01\n",
      "        4       1.84326991953265e-15 1.7130211358119e+01\n",
      "        5       1.78361190646530e-15 1.7130233885635e+01\n",
      "        6       1.83003298293286e-15 1.7130234987948e+01\n",
      "        7       1.79392731488814e-15 1.7130235049892e+01\n",
      "        8       1.76583350882994e-15 1.7130235053751e+01\n",
      "        9       1.76042824296159e-15 1.7130235054010e+01\n",
      "       10       1.69221860812021e-15 1.7130235054028e+01\n",
      "       11       1.71385875362095e-15 1.7130235054030e+01\n",
      "       12       1.65695693777820e-15 1.7130235054030e+01\n",
      "       13       1.63247739747466e-15 1.7130235054030e+01\n",
      "       14       1.63127441586303e-15 1.7130235054030e+01\n",
      "       15       1.58261055923231e-15 1.7130235054030e+01\n",
      " Benchmark completed\n",
      " VERIFICATION SUCCESSFUL\n",
      " Zeta is     1.7130235054030e+01\n",
      " Error is    5.2263371998924e-14\n",
      "\n",
      "\n",
      " CG Benchmark Completed\n",
      " class_npb       =                        A\n",
      " Size            =                    14000\n",
      " Total threads   =                        1\n",
      " Iterations      =                       15\n",
      " Time in seconds =                     0.59\n",
      " Mop/s total     =                  2546.91\n",
      " Operation type  =           floating point\n",
      " Verification    =               SUCCESSFUL\n",
      " Version         =                      4.1\n",
      " Compile date    =              14 Aug 2024\n",
      " Compiler ver    =                   18.0.0\n",
      " OpenMP version  =                   202011\n",
      "\n",
      " Compile options:\n",
      "    CC           = icpx\n",
      "    CLINK        = $(CC)\n",
      "    C_LIB        = -lm\n",
      "    C_INC        = -I../common \n",
      "    CFLAGS       = -O3 -qopenmp -mcmodel=medium\n",
      "    CLINKFLAGS   = -O3 -qopenmp -mcmodel=medium\n",
      "    RAND         = randdp\n",
      "\n",
      "\n",
      "----------------------------------------------------------------------\n",
      "    NPB-CPP is developed by: \n",
      "        Dalvan Griebler\n",
      "        Gabriell Araujo (Sequential Porting)\n",
      "        Júnior Löff (Parallel Implementation)\n",
      "\n",
      "    In case of questions or problems, please send an e-mail to us:\n",
      "        dalvan.griebler; gabriell.araujo; junior.loff@edu.pucrs.br\n",
      "----------------------------------------------------------------------\n",
      "\n"
     ]
    }
   ],
   "source": [
    "#OMP\n",
    "!./bin/cg.A"
   ]
  },
  {
   "cell_type": "code",
   "execution_count": 9,
   "id": "ac7ffef8-2043-412e-abb0-ef2c0b3de0b0",
   "metadata": {
    "collapsed": true,
    "jupyter": {
     "outputs_hidden": true
    }
   },
   "outputs": [
    {
     "name": "stdout",
     "output_type": "stream",
     "text": [
      "\n",
      "\n",
      " NAS Parallel Benchmarks 4.1 Parallel C++ version with OpenMP - CG Benchmark\n",
      "\n",
      " Size:       14000\n",
      " Iterations:    15\n",
      " Initialization time =           0.406 seconds\n",
      "\n",
      "   iteration           ||r||                 zeta\n",
      "        1       1.94608194182685e-13 1.9999758127704e+01\n",
      "        2       1.85568651087349e-15 1.7114049574551e+01\n",
      "        3       1.85315398970438e-15 1.7129666894614e+01\n",
      "        4       1.81625290993173e-15 1.7130211358119e+01\n",
      "        5       1.81774438257743e-15 1.7130233885635e+01\n",
      "        6       1.84619060899000e-15 1.7130234987948e+01\n",
      "        7       1.77792387550053e-15 1.7130235049892e+01\n",
      "        8       1.75651655030626e-15 1.7130235053751e+01\n",
      "        9       1.72875531529005e-15 1.7130235054010e+01\n",
      "       10       1.70805421532953e-15 1.7130235054028e+01\n",
      "       11       1.69061358694489e-15 1.7130235054030e+01\n",
      "       12       1.66240337712682e-15 1.7130235054030e+01\n",
      "       13       1.62756474285858e-15 1.7130235054030e+01\n",
      "       14       1.64620367498808e-15 1.7130235054030e+01\n",
      "       15       1.58553106738843e-15 1.7130235054030e+01\n",
      " Benchmark completed\n",
      " VERIFICATION SUCCESSFUL\n",
      " Zeta is     1.7130235054030e+01\n",
      " Error is    5.2055977665595e-14\n",
      "\n",
      "\n",
      " CG Benchmark Completed\n",
      " class_npb       =                        A\n",
      " Size            =                    14000\n",
      " Total threads   =                        4\n",
      " Iterations      =                       15\n",
      " Time in seconds =                     0.16\n",
      " Mop/s total     =                  9247.11\n",
      " Operation type  =           floating point\n",
      " Verification    =               SUCCESSFUL\n",
      " Version         =                      4.1\n",
      " Compile date    =              14 Aug 2024\n",
      " Compiler ver    =                   18.0.0\n",
      " OpenMP version  =                   202011\n",
      "\n",
      " Compile options:\n",
      "    CC           = icpx\n",
      "    CLINK        = $(CC)\n",
      "    C_LIB        = -lm\n",
      "    C_INC        = -I../common \n",
      "    CFLAGS       = -O3 -qopenmp -mcmodel=medium\n",
      "    CLINKFLAGS   = -O3 -qopenmp -mcmodel=medium\n",
      "    RAND         = randdp\n",
      "\n",
      "\n",
      "----------------------------------------------------------------------\n",
      "    NPB-CPP is developed by: \n",
      "        Dalvan Griebler\n",
      "        Gabriell Araujo (Sequential Porting)\n",
      "        Júnior Löff (Parallel Implementation)\n",
      "\n",
      "    In case of questions or problems, please send an e-mail to us:\n",
      "        dalvan.griebler; gabriell.araujo; junior.loff@edu.pucrs.br\n",
      "----------------------------------------------------------------------\n",
      "\n"
     ]
    }
   ],
   "source": [
    "#OMP\n",
    "#CONTROLL THE THREADS NUMBER\n",
    "!export OMP_NUM_THREADS=4 && ./bin/cg.A"
   ]
  },
  {
   "cell_type": "code",
   "execution_count": null,
   "id": "384e7b09-c151-42f3-9e5a-72cf1af38f0f",
   "metadata": {},
   "outputs": [],
   "source": [
    "#OMP\n",
    "!./bin/cg.B"
   ]
  },
  {
   "cell_type": "code",
   "execution_count": null,
   "id": "574de8e8-4168-4b47-b37f-ebdfdc9f9dec",
   "metadata": {},
   "outputs": [],
   "source": [
    "#OMP\n",
    "#CONTROLL THE THREADS NUMBER\n",
    "!export OMP_NUM_THREADS=4 && ./bin/cg.B"
   ]
  },
  {
   "cell_type": "code",
   "execution_count": null,
   "id": "3b2f198e-b685-48c5-a742-8c005a53794a",
   "metadata": {},
   "outputs": [],
   "source": [
    "#OMP\n",
    "!./bin/cg.C"
   ]
  },
  {
   "cell_type": "code",
   "execution_count": null,
   "id": "b752225c-211a-48a7-86f9-5a9eb7c324f4",
   "metadata": {},
   "outputs": [],
   "source": [
    "#OMP\n",
    "#CONTROLL THE THREADS NUMBER\n",
    "!export OMP_NUM_THREADS=4 && ./bin/cg.C"
   ]
  },
  {
   "cell_type": "code",
   "execution_count": null,
   "id": "b2a079c1-28ad-4d95-a916-85609ca2ac5c",
   "metadata": {},
   "outputs": [],
   "source": [
    "#OMP\n",
    "!./bin/cg.D"
   ]
  },
  {
   "cell_type": "code",
   "execution_count": null,
   "id": "fc27a273-a0d7-478a-9893-2ea374c901e4",
   "metadata": {},
   "outputs": [],
   "source": [
    "#OMP\n",
    "#CONTROLL THE THREADS NUMBER\n",
    "!export OMP_NUM_THREADS=4 && ./bin/cg.D"
   ]
  },
  {
   "cell_type": "code",
   "execution_count": 10,
   "id": "ab98a482-c4fe-47f5-aeb0-40ac533733a7",
   "metadata": {},
   "outputs": [
    {
     "data": {
      "image/png": "[encoded data removed]",
      "text/plain": [
       "<Figure size 1000x600 with 1 Axes>"
      ]
     },
     "metadata": {},
     "output_type": "display_data"
    },
    {
     "data": {
      "image/png": "[encoded data removed]",
      "text/plain": [
       "<Figure size 1000x600 with 1 Axes>"
      ]
     },
     "metadata": {},
     "output_type": "display_data"
    }
   ],
   "source": [
    "#OMP\n",
    "import matplotlib.pyplot as plt\n",
    "\n",
    "# Data\n",
    "threads = [1, 2, 4, 8, 16, 24]\n",
    "serialA = 189.370662  #THE TIME TAKEN TO THE SERIAL CLASS A TO RUN \n",
    "parallelA = [189.111551, 161.002987, 86.368980, 53.350551, 30.391203, 21.658333]\n",
    "\n",
    "# Calculate speedup\n",
    "speedup_A = [serialA / x for x in parallelA]\n",
    "\n",
    "# Calculate efficiency\n",
    "efficiency_A = [speedup_A[i] / threads[i] for i in range(len(threads))]\n",
    "\n",
    "# Plot speedup\n",
    "plt.figure(figsize=(10, 6))\n",
    "plt.plot(threads, speedup_A, marker='o', label=\"Speedup A\")\n",
    "plt.xlabel('Number of Threads')\n",
    "plt.ylabel('Speedup')\n",
    "plt.title('Speedup vs. Number of Threads')\n",
    "plt.grid(True)\n",
    "plt.legend()\n",
    "\n",
    "# Show the speedup plot\n",
    "plt.show()\n",
    "\n",
    "# Plot efficiency\n",
    "plt.figure(figsize=(10, 6))\n",
    "plt.plot(threads, efficiency_A, marker='o', label=\"Efficiency A\", color='orange')\n",
    "plt.xlabel('Number of Threads')\n",
    "plt.ylabel('Efficiency')\n",
    "plt.title('Efficiency vs. Number of Threads')\n",
    "plt.grid(True)\n",
    "plt.legend()\n",
    "\n",
    "# Show the efficiency plot\n",
    "plt.show()\n"
   ]
  },
  {
   "cell_type": "code",
   "execution_count": null,
   "id": "abeabb60-f741-4d8e-b72b-bdb581f5bba4",
   "metadata": {},
   "outputs": [],
   "source": []
  }
 ],
 "metadata": {
  "kernelspec": {
   "display_name": "Python 3 (ipykernel)",
   "language": "python",
   "name": "python3"
  },
  "language_info": {
   "codemirror_mode": {
    "name": "ipython",
    "version": 3
   },
   "file_extension": ".py",
   "mimetype": "text/x-python",
   "name": "python",
   "nbconvert_exporter": "python",
   "pygments_lexer": "ipython3",
   "version": "3.11.5"
  }
 },
 "nbformat": 4,
 "nbformat_minor": 5
}
